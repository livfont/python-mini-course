{
 "cells": [
  {
   "attachments": {},
   "cell_type": "markdown",
   "metadata": {},
   "source": [
    "Looping in Lists"
   ]
  },
  {
   "attachments": {},
   "cell_type": "markdown",
   "metadata": {},
   "source": [
    "For loop: `for x in list:`"
   ]
  },
  {
   "cell_type": "code",
   "execution_count": 2,
   "metadata": {},
   "outputs": [
    {
     "name": "stdout",
     "output_type": "stream",
     "text": [
      "apple\n",
      "cherry\n",
      "watermelon\n",
      "banana\n",
      "peach\n",
      "33\n"
     ]
    }
   ],
   "source": [
    "fruits = ['apple', 'cherry', 'watermelon', 'banana', 'peach']\n",
    "\n",
    "for fruit in fruits:\n",
    "  print(fruit)\n",
    "\n",
    "\n",
    "numbers = [1, 4, 5, 6, 8, 9]\n",
    "total = 0\n",
    "for num in numbers:\n",
    "  total += num\n",
    "print(total)"
   ]
  },
  {
   "attachments": {},
   "cell_type": "markdown",
   "metadata": {},
   "source": [
    "While loop: `while i < len(list):`"
   ]
  },
  {
   "cell_type": "code",
   "execution_count": 7,
   "metadata": {},
   "outputs": [
    {
     "name": "stdout",
     "output_type": "stream",
     "text": [
      "0 apple\n",
      "1 cherry\n",
      "2 watermelon\n",
      "3 banana\n",
      "4 peach\n",
      "5 orange\n"
     ]
    }
   ],
   "source": [
    "fruits = ['apple', 'cherry', 'watermelon', 'banana', 'peach', \"orange\"]\n",
    "\n",
    "i = 0\n",
    "\n",
    "# len(fruits)\n",
    "while i < len(fruits):\n",
    "  print(i, fruits[i])\n",
    "  i += 1"
   ]
  },
  {
   "attachments": {},
   "cell_type": "markdown",
   "metadata": {},
   "source": [
    "For looping through index: `for i in range(len(list)):`"
   ]
  },
  {
   "cell_type": "code",
   "execution_count": 13,
   "metadata": {},
   "outputs": [
    {
     "name": "stdout",
     "output_type": "stream",
     "text": [
      "apple\n",
      "cherry\n",
      "watermelon\n",
      "banana\n",
      "peach\n"
     ]
    }
   ],
   "source": [
    "fruits = ['apple', 'cherry', 'watermelon', 'banana', 'peach']\n",
    "\n",
    "for x in range(len(fruits)):\n",
    "  print(fruits[x])"
   ]
  },
  {
   "attachments": {},
   "cell_type": "markdown",
   "metadata": {},
   "source": [
    "Extra! List Comprehension: `[print(x) for x in list]`"
   ]
  },
  {
   "cell_type": "code",
   "execution_count": 19,
   "metadata": {},
   "outputs": [
    {
     "name": "stdout",
     "output_type": "stream",
     "text": [
      "['a', 'c', 'w', 'b', 'p']\n"
     ]
    },
    {
     "data": {
      "text/plain": [
       "['a', 'c', 'w', 'b', 'p']"
      ]
     },
     "execution_count": 19,
     "metadata": {},
     "output_type": "execute_result"
    }
   ],
   "source": [
    "fruits = ['apple', 'cherry', 'watermelon', 'banana', 'peach']\n",
    "\n",
    "arr = []\n",
    "for fruit in fruits:\n",
    "  arr.append(fruit[0])\n",
    "print(arr)\n",
    "\n",
    "[fruit[0] for fruit in fruits]"
   ]
  }
 ],
 "metadata": {
  "kernelspec": {
   "display_name": "Python 3",
   "language": "python",
   "name": "python3"
  },
  "language_info": {
   "codemirror_mode": {
    "name": "ipython",
    "version": 3
   },
   "file_extension": ".py",
   "mimetype": "text/x-python",
   "name": "python",
   "nbconvert_exporter": "python",
   "pygments_lexer": "ipython3",
   "version": "3.10.11"
  },
  "orig_nbformat": 4
 },
 "nbformat": 4,
 "nbformat_minor": 2
}
