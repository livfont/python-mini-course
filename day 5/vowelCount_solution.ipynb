{
 "cells": [
  {
   "attachments": {},
   "cell_type": "markdown",
   "metadata": {},
   "source": [
    "# Vowel Count"
   ]
  },
  {
   "attachments": {},
   "cell_type": "markdown",
   "metadata": {},
   "source": [
    "Return the number (count) of vowels in the given string.\n",
    "\n",
    "We will consider a, e, i, o, u as vowels.\n",
    "\n",
    "The input string will only consist of lower case letters and/or spaces."
   ]
  },
  {
   "cell_type": "code",
   "execution_count": 7,
   "metadata": {},
   "outputs": [
    {
     "name": "stdout",
     "output_type": "stream",
     "text": [
      "[2, 1, 4, 3, 2]\n"
     ]
    }
   ],
   "source": [
    "fruits = ['apple', 'cherry', 'watermelon', 'banana', 'peach']\n",
    "count = []\n",
    "\n",
    "for fruit in fruits:\n",
    "  counter = 0\n",
    "  for char in fruit:\n",
    "    # if char == \"a\" or char == \"e\" or char == \"o\" or char == \"i\" or char == \"u\":\n",
    "    if char in \"aeiou\":\n",
    "      counter += 1\n",
    "  count.append(counter)\n",
    "\n",
    "print(count)"
   ]
  },
  {
   "cell_type": "code",
   "execution_count": null,
   "metadata": {},
   "outputs": [],
   "source": []
  }
 ],
 "metadata": {
  "kernelspec": {
   "display_name": "Python 3",
   "language": "python",
   "name": "python3"
  },
  "language_info": {
   "codemirror_mode": {
    "name": "ipython",
    "version": 3
   },
   "file_extension": ".py",
   "mimetype": "text/x-python",
   "name": "python",
   "nbconvert_exporter": "python",
   "pygments_lexer": "ipython3",
   "version": "3.10.11"
  },
  "orig_nbformat": 4
 },
 "nbformat": 4,
 "nbformat_minor": 2
}
