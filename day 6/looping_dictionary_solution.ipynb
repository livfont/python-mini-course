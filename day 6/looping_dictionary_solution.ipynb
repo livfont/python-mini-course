{
 "cells": [
  {
   "attachments": {},
   "cell_type": "markdown",
   "metadata": {},
   "source": [
    "# Looping dictionary"
   ]
  },
  {
   "attachments": {},
   "cell_type": "markdown",
   "metadata": {},
   "source": [
    "For loop: `for x in dictionary:`"
   ]
  },
  {
   "cell_type": "code",
   "execution_count": 1,
   "metadata": {},
   "outputs": [
    {
     "name": "stdout",
     "output_type": "stream",
     "text": [
      "banana\n",
      "skateBoard\n",
      "goldFish\n"
     ]
    }
   ],
   "source": [
    "shoppingList = {\n",
    "  \"banana\": 1000,\n",
    "  \"skateBoard\": 0.5,\n",
    "  \"goldFish\": 50\n",
    "}\n",
    "\n",
    "for product in shoppingList:\n",
    "  print(product)\n"
   ]
  },
  {
   "attachments": {},
   "cell_type": "markdown",
   "metadata": {},
   "source": [
    "Printing values"
   ]
  },
  {
   "cell_type": "code",
   "execution_count": 5,
   "metadata": {},
   "outputs": [
    {
     "name": "stdout",
     "output_type": "stream",
     "text": [
      "1000\n",
      "0.5\n",
      "50\n"
     ]
    }
   ],
   "source": [
    "for product in shoppingList:\n",
    "  print(shoppingList[product])"
   ]
  },
  {
   "attachments": {},
   "cell_type": "markdown",
   "metadata": {},
   "source": [
    "Using `.values()`"
   ]
  },
  {
   "cell_type": "code",
   "execution_count": null,
   "metadata": {},
   "outputs": [],
   "source": [
    "print(shoppingList.values())\n",
    "\n",
    "total = 0\n",
    "\n",
    "for price in shoppingList.values():\n",
    "  # print(price)\n",
    "  total += price\n",
    "\n",
    "print(total)"
   ]
  },
  {
   "attachments": {},
   "cell_type": "markdown",
   "metadata": {},
   "source": [
    "Using `.items()`"
   ]
  },
  {
   "cell_type": "code",
   "execution_count": 7,
   "metadata": {},
   "outputs": [
    {
     "name": "stdout",
     "output_type": "stream",
     "text": [
      "dict_items([('banana', 1000), ('skateBoard', 0.5), ('goldFish', 50)])\n",
      "banana 1000\n",
      "skateBoard 0.5\n",
      "goldFish 50\n"
     ]
    }
   ],
   "source": [
    "print(shoppingList.items())\n",
    "\n",
    "for key, value in shoppingList.items():\n",
    "  print(key, value)"
   ]
  }
 ],
 "metadata": {
  "kernelspec": {
   "display_name": "Python 3",
   "language": "python",
   "name": "python3"
  },
  "language_info": {
   "codemirror_mode": {
    "name": "ipython",
    "version": 3
   },
   "file_extension": ".py",
   "mimetype": "text/x-python",
   "name": "python",
   "nbconvert_exporter": "python",
   "pygments_lexer": "ipython3",
   "version": "3.10.11"
  },
  "orig_nbformat": 4
 },
 "nbformat": 4,
 "nbformat_minor": 2
}
