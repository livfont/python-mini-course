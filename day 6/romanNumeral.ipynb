{
 "cells": [
  {
   "attachments": {},
   "cell_type": "markdown",
   "metadata": {},
   "source": [
    "# Roman Numeral"
   ]
  },
  {
   "cell_type": "code",
   "execution_count": null,
   "metadata": {},
   "outputs": [],
   "source": [
    "'''\n",
    "Symbols\tValues\n",
    "I\t1\n",
    "IV 4\n",
    "V\t5\n",
    "IX\t9\n",
    "X\t10\n",
    "XL\t40\n",
    "L\t50\n",
    "XC\t90\n",
    "C\t100\n",
    "CD\t400\n",
    "D\t500\n",
    "CM\t900\n",
    "M\t1000\n",
    "'''"
   ]
  },
  {
   "cell_type": "code",
   "execution_count": null,
   "metadata": {},
   "outputs": [],
   "source": []
  }
 ],
 "metadata": {
  "language_info": {
   "name": "python"
  },
  "orig_nbformat": 4
 },
 "nbformat": 4,
 "nbformat_minor": 2
}
