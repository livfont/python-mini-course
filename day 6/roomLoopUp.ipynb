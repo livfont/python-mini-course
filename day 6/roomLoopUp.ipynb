{
 "cells": [
  {
   "attachments": {},
   "cell_type": "markdown",
   "metadata": {},
   "source": [
    "# Course information\n",
    "Write a program that creates a dictionary containing course numbers and the room numbers of the rooms where the courses meet.\n",
    "\n",
    "The program should let the user enter a course number, then it should display the course’s room number, instructor, and meeting time."
   ]
  },
  {
   "cell_type": "code",
   "execution_count": null,
   "metadata": {},
   "outputs": [],
   "source": []
  }
 ],
 "metadata": {
  "language_info": {
   "name": "python"
  },
  "orig_nbformat": 4
 },
 "nbformat": 4,
 "nbformat_minor": 2
}
