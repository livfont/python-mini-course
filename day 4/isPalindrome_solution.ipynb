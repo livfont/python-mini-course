{
 "cells": [
  {
   "attachments": {},
   "cell_type": "markdown",
   "metadata": {},
   "source": [
    "# isPalindrome"
   ]
  },
  {
   "cell_type": "code",
   "execution_count": null,
   "metadata": {},
   "outputs": [],
   "source": [
    "'''\n",
    "\"mom\" => Palindrome \n",
    "\"noon\" => Palindrome\n",
    "\"anna\" => Palindrome\n",
    "\n",
    "\"banana\" => Not Palindrome\n",
    "\"moon\" => Not Palindrome\n",
    "'''"
   ]
  },
  {
   "cell_type": "code",
   "execution_count": 4,
   "metadata": {},
   "outputs": [
    {
     "name": "stdout",
     "output_type": "stream",
     "text": [
      "It's a palindrome\n"
     ]
    }
   ],
   "source": [
    "#ask user for a word\n",
    "word = input(\"Enter a word: \")\n",
    "\n",
    "length = len(word)\n",
    "\n",
    "for i in range(0, length, 1):\n",
    "  if word[i] != word[(i + 1) * -1]:\n",
    "    print(\"It's not a palindrome!\")\n",
    "    break\n",
    "else:\n",
    "  print(\"It's a palindrome\")\n",
    "  \n"
   ]
  }
 ],
 "metadata": {
  "kernelspec": {
   "display_name": "Python 3",
   "language": "python",
   "name": "python3"
  },
  "language_info": {
   "codemirror_mode": {
    "name": "ipython",
    "version": 3
   },
   "file_extension": ".py",
   "mimetype": "text/x-python",
   "name": "python",
   "nbconvert_exporter": "python",
   "pygments_lexer": "ipython3",
   "version": "3.10.11"
  },
  "orig_nbformat": 4
 },
 "nbformat": 4,
 "nbformat_minor": 2
}
